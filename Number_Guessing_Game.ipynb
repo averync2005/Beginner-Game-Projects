{
  "cells": [
    {
      "cell_type": "code",
      "execution_count": 1,
      "metadata": {
        "id": "GhJ9VtMu36Vn"
      },
      "outputs": [],
      "source": [
        "secret_num = 0\n",
        "guess_count = 1\n",
        "\n",
        "max = 10000\n",
        "min = 0\n",
        "avg = (max-min) // 2"
      ]
    },
    {
      "cell_type": "code",
      "execution_count": 2,
      "metadata": {},
      "outputs": [],
      "source": [
        "def set_secret_num():\n",
        "  user_input = input(f\"Pick a secret number between {min} and {max}: \")\n",
        "  if not user_input.isdigit():\n",
        "    print(\"Input must be a non-negative integer value\")\n",
        "    set_secret_num()\n",
        "  else:\n",
        "    temp = int(user_input)\n",
        "    if (temp > max) or (temp < min):\n",
        "      print(\"That number is out of range\")\n",
        "      set_secret_num()\n",
        "    secret_num = temp\n",
        "\n",
        "def is_number_guessed(avg):\n",
        "  user_input = input(f\"Is your secret number {avg}? Please answer \\\"Y\\\" or \\\"N\\\": \")\n",
        "  if (user_input != \"Y\") and (user_input != \"N\"):\n",
        "    print(\"Your answer must be \\\"Y\\\" or \\\"N\\\"\")\n",
        "    is_number_guessed(avg)\n",
        "  return user_input\n",
        "\n",
        "def higher_or_lower(avg):\n",
        "  user_input = input(f\"Is your secret number higher or lower than {avg}? Please answer \\\"H\\\" or \\\"L\\\": \")\n",
        "  if (user_input != \"H\") and (user_input != \"L\"):\n",
        "    print(\"Your answer must be \\\"H\\\" or \\\"L\\\"\")\n",
        "    higher_or_lower(avg)\n",
        "  return user_input"
      ]
    },
    {
      "cell_type": "code",
      "execution_count": 3,
      "metadata": {},
      "outputs": [
        {
          "name": "stdout",
          "output_type": "stream",
          "text": [
            "Uh oh. It seems like I forgot your secret number...\n",
            "Wait, don't tell me though. I'm going to try and guess it.\n",
            "Yes, victory is mine!\n",
            "Number of guesses it took me to get your secret number: 15\n"
          ]
        }
      ],
      "source": [
        "set_secret_num()\n",
        "print(\"Uh oh. It seems like I forgot your secret number...\")\n",
        "print(\"Wait, don't tell me though. I'm going to try and guess it.\")\n",
        "\n",
        "guessed = False\n",
        "while not guessed:\n",
        "  guessed_successfully = is_number_guessed(avg)\n",
        "  if guessed_successfully == \"Y\":  #The computer has guessed the secret number\n",
        "    print(\"Yes, victory is mine!\")\n",
        "    print(f\"Number of guesses it took me to get your secret number: {guess_count}\")\n",
        "    break\n",
        "  else:  #The computer has not guessed the secret number\n",
        "    guess_comparison = higher_or_lower(avg)\n",
        "    if guess_comparison == \"H\":  #The secret number is higher than avg\n",
        "      min = avg\n",
        "      avg = ((max-min) // 2) + min\n",
        "    else:  #The secret number is lower than avg\n",
        "      max = avg\n",
        "      avg = max - ((max-min) // 2)\n",
        "  guess_count += 1"
      ]
    }
  ],
  "metadata": {
    "colab": {
      "provenance": []
    },
    "kernelspec": {
      "display_name": "Python 3",
      "name": "python3"
    },
    "language_info": {
      "codemirror_mode": {
        "name": "ipython",
        "version": 3
      },
      "file_extension": ".py",
      "mimetype": "text/x-python",
      "name": "python",
      "nbconvert_exporter": "python",
      "pygments_lexer": "ipython3",
      "version": "3.12.0"
    }
  },
  "nbformat": 4,
  "nbformat_minor": 0
}
