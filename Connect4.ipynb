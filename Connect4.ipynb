{
  "cells": [
    {
      "cell_type": "code",
      "execution_count": 1,
      "metadata": {
        "id": "GhJ9VtMu36Vn"
      },
      "outputs": [
        {
          "name": "stdout",
          "output_type": "stream",
          "text": [
            "[[0. 0. 0. 0. 0. 0. 0.]\n",
            " [0. 0. 0. 0. 0. 0. 0.]\n",
            " [0. 0. 0. 0. 0. 0. 0.]\n",
            " [0. 0. 0. 0. 0. 0. 0.]\n",
            " [0. 0. 0. 0. 0. 0. 0.]\n",
            " [0. 0. 0. 0. 0. 0. 0.]]\n"
          ]
        }
      ],
      "source": [
        "import numpy as np\n",
        "from termcolor import colored\n",
        "\n",
        "#Setting up a 6x7 array of zeros to represent the Connect 4 Board (0 = empty, 1 = red, 2 = yellow):\n",
        "board = np.zeros((6,7))\n",
        "print(board)"
      ]
    },
    {
      "cell_type": "code",
      "execution_count": 2,
      "metadata": {
        "colab": {
          "base_uri": "https://localhost:8080/"
        },
        "id": "IaYBhxZq3_yN",
        "outputId": "9e79b40b-8bb4-4798-ec50-aeea837f68b1"
      },
      "outputs": [
        {
          "name": "stdout",
          "output_type": "stream",
          "text": [
            "---------------------------\n",
            "| ⬤  ⬤  ⬤  ⬤  ⬤  ⬤  ⬤ |\n",
            "| ⬤  ⬤  ⬤  ⬤  ⬤  ⬤  ⬤ |\n",
            "| ⬤  ⬤  ⬤  ⬤  ⬤  ⬤  ⬤ |\n",
            "| ⬤  ⬤  ⬤  ⬤  ⬤  ⬤  ⬤ |\n",
            "| ⬤  ⬤  ⬤  ⬤  ⬤  ⬤  ⬤ |\n",
            "| ⬤  ⬤  ⬤  ⬤  ⬤  ⬤  ⬤ |\n",
            "---------------------------\n"
          ]
        }
      ],
      "source": [
        "#Prints the Connect 4 board\n",
        "def printboard(board):  #Uses colored in termcolor library to create different colored circles which are the \" \\u2b24 \"\n",
        "    print('---------------------------')\n",
        "    for row in board:\n",
        "        print('|',end='')\n",
        "        for item in row:\n",
        "            if (item == 0):\n",
        "                print(\" \\u2b24 \", end=\"\")  #Grey circle with new line\n",
        "            elif (item == 1):\n",
        "                print(colored(\" \\u2b24 \",'red'), end=\"\")  #Red circle with new line\n",
        "            else:\n",
        "                print(colored(\" \\u2b24 \",'yellow'), end=\"\")  #Yellow circle with new line\n",
        "        print('|')\n",
        "    print('---------------------------')\n",
        "printboard(board)"
      ]
    },
    {
      "cell_type": "markdown",
      "metadata": {},
      "source": [
        "----------------------------------------------------------------------------------------------------------------------------------------------------------------------------------------------------"
      ]
    },
    {
      "cell_type": "code",
      "execution_count": 3,
      "metadata": {
        "colab": {
          "base_uri": "https://localhost:8080/",
          "height": 536
        },
        "id": "4Gfka8qf4CDK",
        "outputId": "cca0a376-cd1e-4e3e-bd55-c07838aa0ce1"
      },
      "outputs": [],
      "source": [
        "#Functions to check for any win conditions (4-in-a-row):\n",
        "def check_verticals(board):\n",
        "  for column in range(7):\n",
        "      for row in range(3):\n",
        "        if (board[row,column] == 1 and board[row+1,column] == 1 and board[row+2,column] == 1 and board[row+3,column] == 1) or (board[row,column] == 2 and board[row+1,column] == 2 and board[row+2,column] == 2 and board[row+3,column] == 2):\n",
        "          return True\n",
        "\n",
        "def check_horizontals(board):\n",
        "  for row in range(6):\n",
        "    for column in range(4):\n",
        "      if (board[row,column] == 1 and board[row,column+1] == 1 and board[row,column+2] == 1 and board[row,column+3] == 1) or (board[row,column] == 2 and board[row,column+1] == 2 and board[row,column+2] == 2 and board[row,column+3] == 2):  \n",
        "        return True\n",
        "\n",
        "def check_diags_lr(board):\n",
        "  for column in range(4):\n",
        "    for row in range(5,2,-1):\n",
        "      if (board[row,column] == 1 and board[row-1,column+1] == 1 and board[row-2,column+2] == 1 and board[row-3,column+3] == 1) or (board[row,column] == 2 and board[row-1,column+1] == 2 and board[row-2,column+2] == 2 and board[row-3,column+3] == 2): \n",
        "        return True\n",
        "\n",
        "def check_diags_rl(board):\n",
        "  for column in range(6,2,-1):\n",
        "    for row in range(5,2,-1):\n",
        "      if (board[row,column] == 1 and board[row-1,column-1] == 1 and board[row-2,column-2] == 1 and board[row-3,column-3] == 1) or (board[row,column] == 2 and board[row-1,column-1] == 2 and board[row-2,column-2] == 2 and board[row-3,column-3] == 2):\n",
        "        return True\n",
        "  \n",
        "##################################################################################################################################################################################################\n",
        "\n",
        "def player_won(board):\n",
        "  won = False\n",
        "  if check_verticals(board) == True or check_horizontals(board) == True or check_diags_lr(board) == True or check_diags_rl(board) == True:  #Tests if a player has won\n",
        "    won = True\n",
        "  return won\n",
        "\n",
        "def board_filled(board):\n",
        "  filled = False\n",
        "  for row in range(6):\n",
        "    for column in range(7):\n",
        "      if board[row,column] == 0:\n",
        "        break\n",
        "      elif row == 5 and column == 6 and board[row,column] != 0:\n",
        "        filled = True\n",
        "        return filled"
      ]
    },
    {
      "cell_type": "code",
      "execution_count": 4,
      "metadata": {},
      "outputs": [
        {
          "name": "stdout",
          "output_type": "stream",
          "text": [
            "---------------------------\n",
            "| ⬤  ⬤  ⬤  ⬤  ⬤  ⬤  ⬤ |\n",
            "| ⬤  ⬤  ⬤  ⬤  ⬤  ⬤  ⬤ |\n",
            "| ⬤  ⬤  ⬤  ⬤  ⬤  ⬤  ⬤ |\n",
            "| ⬤  ⬤  ⬤  ⬤  ⬤  ⬤  ⬤ |\n",
            "| ⬤  ⬤  ⬤  ⬤  ⬤  ⬤  ⬤ |\n",
            "| ⬤  ⬤  ⬤  ⬤  ⬤  ⬤  ⬤ |\n",
            "---------------------------\n",
            "---------------------------\n",
            "| ⬤  ⬤  ⬤  ⬤  ⬤  ⬤  ⬤ |\n",
            "| ⬤  ⬤  ⬤  ⬤  ⬤  ⬤  ⬤ |\n",
            "| ⬤  ⬤  ⬤  ⬤  ⬤  ⬤  ⬤ |\n",
            "| ⬤  ⬤  ⬤  ⬤  ⬤  ⬤  ⬤ |\n",
            "| ⬤  ⬤  ⬤  ⬤  ⬤  ⬤  ⬤ |\n",
            "| ⬤  ⬤  ⬤  ⬤ \u001b[31m ⬤ \u001b[0m ⬤  ⬤ |\n",
            "---------------------------\n",
            "---------------------------\n",
            "| ⬤  ⬤  ⬤  ⬤  ⬤  ⬤  ⬤ |\n",
            "| ⬤  ⬤  ⬤  ⬤  ⬤  ⬤  ⬤ |\n",
            "| ⬤  ⬤  ⬤  ⬤  ⬤  ⬤  ⬤ |\n",
            "| ⬤  ⬤  ⬤  ⬤  ⬤  ⬤  ⬤ |\n",
            "| ⬤  ⬤  ⬤  ⬤ \u001b[33m ⬤ \u001b[0m ⬤  ⬤ |\n",
            "| ⬤  ⬤  ⬤  ⬤ \u001b[31m ⬤ \u001b[0m ⬤  ⬤ |\n",
            "---------------------------\n",
            "---------------------------\n",
            "| ⬤  ⬤  ⬤  ⬤  ⬤  ⬤  ⬤ |\n",
            "| ⬤  ⬤  ⬤  ⬤  ⬤  ⬤  ⬤ |\n",
            "| ⬤  ⬤  ⬤  ⬤  ⬤  ⬤  ⬤ |\n",
            "| ⬤  ⬤  ⬤  ⬤ \u001b[31m ⬤ \u001b[0m ⬤  ⬤ |\n",
            "| ⬤  ⬤  ⬤  ⬤ \u001b[33m ⬤ \u001b[0m ⬤  ⬤ |\n",
            "| ⬤  ⬤  ⬤  ⬤ \u001b[31m ⬤ \u001b[0m ⬤  ⬤ |\n",
            "---------------------------\n"
          ]
        },
        {
          "ename": "ValueError",
          "evalue": "invalid literal for int() with base 10: ''",
          "output_type": "error",
          "traceback": [
            "\u001b[1;31m---------------------------------------------------------------------------\u001b[0m",
            "\u001b[1;31mValueError\u001b[0m                                Traceback (most recent call last)",
            "Cell \u001b[1;32mIn[4], line 33\u001b[0m\n\u001b[0;32m     31\u001b[0m valid \u001b[38;5;241m=\u001b[39m \u001b[38;5;28;01mFalse\u001b[39;00m  \n\u001b[0;32m     32\u001b[0m \u001b[38;5;28;01mwhile\u001b[39;00m \u001b[38;5;129;01mnot\u001b[39;00m valid:\n\u001b[1;32m---> 33\u001b[0m   column \u001b[38;5;241m=\u001b[39m \u001b[43mget_column\u001b[49m\u001b[43m(\u001b[49m\u001b[43mRturn\u001b[49m\u001b[43m)\u001b[49m  \u001b[38;5;66;03m#An index between 0 and 6\u001b[39;00m\n\u001b[0;32m     35\u001b[0m   \u001b[38;5;66;03m#Putting the piece inside the board\u001b[39;00m\n\u001b[0;32m     36\u001b[0m   \u001b[38;5;28;01mfor\u001b[39;00m row \u001b[38;5;129;01min\u001b[39;00m \u001b[38;5;28mrange\u001b[39m(\u001b[38;5;241m6\u001b[39m, \u001b[38;5;241m0\u001b[39m, \u001b[38;5;241m-\u001b[39m\u001b[38;5;241m1\u001b[39m):  \u001b[38;5;66;03m#Iterates from the bottom row to top row (Connect 4 pieces fill vertically upward)\u001b[39;00m\n",
            "Cell \u001b[1;32mIn[4], line 11\u001b[0m, in \u001b[0;36mget_column\u001b[1;34m(Rturn)\u001b[0m\n\u001b[0;32m      8\u001b[0m   \u001b[38;5;28mprint\u001b[39m(\u001b[38;5;124m\"\u001b[39m\u001b[38;5;124mInput must be an integer between 1 and 7\u001b[39m\u001b[38;5;124m\"\u001b[39m)\n\u001b[0;32m      9\u001b[0m   get_column(Rturn)\n\u001b[1;32m---> 11\u001b[0m column \u001b[38;5;241m=\u001b[39m \u001b[38;5;28;43mint\u001b[39;49m\u001b[43m(\u001b[49m\u001b[43mtemp\u001b[49m\u001b[43m)\u001b[49m \u001b[38;5;241m-\u001b[39m \u001b[38;5;241m1\u001b[39m\n\u001b[0;32m     12\u001b[0m \u001b[38;5;28;01mreturn\u001b[39;00m column\n",
            "\u001b[1;31mValueError\u001b[0m: invalid literal for int() with base 10: ''"
          ]
        }
      ],
      "source": [
        "def get_column(Rturn):  #Gets a column number from the user\n",
        "  if Rturn:  #Red player chooses\n",
        "    temp = input(\"Red player, choose a column to put your piece in (1-7): \")\n",
        "  else:  #Yellow player chooses\n",
        "    temp = input(\"Yellow player, choose a column to put your piece in (1-7): \")\n",
        "  \n",
        "  if (temp not in \"1234567\") or (len(temp) > 1):\n",
        "    print(\"Input must be an integer between 1 and 7\")\n",
        "    get_column(Rturn)\n",
        "  \n",
        "  column = int(temp) - 1\n",
        "  return column\n",
        "\n",
        "def switch_turns(Rturn):\n",
        "    if Rturn:  #Red player's turn just finished\n",
        "      Rturn = False\n",
        "      return Rturn\n",
        "    else:  #Yellow player's turn just finished\n",
        "      Rturn = True\n",
        "      return Rturn\n",
        "\n",
        "##################################################################################################################################################################################################\n",
        "\n",
        "#The main gameplay control:\n",
        "game_over = False\n",
        "Rturn = True  #The red player goes first\n",
        "\n",
        "while not game_over:\n",
        "  printboard(board)\n",
        "\n",
        "  valid = False  \n",
        "  while not valid:\n",
        "    column = get_column(Rturn)  #An index between 0 and 6\n",
        "\n",
        "    #Putting the piece inside the board\n",
        "    for row in range(6, 0, -1):  #Iterates from the bottom row to top row (Connect 4 pieces fill vertically upward)\n",
        "      row -= 1  #Index of row position \n",
        "      if (board[row,column] == 1) or (board[row,column] == 2):  #Test if a piece is already there     \n",
        "        if row == 0:  #The top spot in the column is filled\n",
        "          print(\"This column is filled!\")\n",
        "      else:  #There is an available spot in the column\n",
        "        valid = True\n",
        "        if Rturn:\n",
        "          board[row,column] = 1 \n",
        "        else:\n",
        "          board[row,column] = 2\n",
        "        break\n",
        "\n",
        "  #Tests if the game is over after a player moves:\n",
        "  if (player_won(board)):\n",
        "    printboard(board)\n",
        "    if Rturn:\n",
        "      print(\"The red player has won!\")\n",
        "      game_over = True\n",
        "    else:\n",
        "      print(\"The yellow player has won!\")\n",
        "      game_over = True\n",
        "  elif (board_filled(board)):\n",
        "    printboard(board)\n",
        "    print(\"The board has been filled and it is a tie!\")\n",
        "    game_over = True\n",
        "\n",
        "  #Switchs turns:  \n",
        "  Rturn = switch_turns(Rturn)"
      ]
    }
  ],
  "metadata": {
    "colab": {
      "provenance": []
    },
    "kernelspec": {
      "display_name": "Python 3",
      "name": "python3"
    },
    "language_info": {
      "codemirror_mode": {
        "name": "ipython",
        "version": 3
      },
      "file_extension": ".py",
      "mimetype": "text/x-python",
      "name": "python",
      "nbconvert_exporter": "python",
      "pygments_lexer": "ipython3",
      "version": "3.12.0"
    }
  },
  "nbformat": 4,
  "nbformat_minor": 0
}
